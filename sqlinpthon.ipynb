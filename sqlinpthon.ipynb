{
 "cells": [
  {
   "cell_type": "code",
   "execution_count": null,
   "id": "bf0eb208",
   "metadata": {},
   "outputs": [],
   "source": [
    "import sqlite3"
   ]
  },
  {
   "cell_type": "code",
   "execution_count": null,
   "id": "9a6fa55c",
   "metadata": {},
   "outputs": [],
   "source": [
    "conn = sqlite3.connect('emaildb.sqlite')"
   ]
  },
  {
   "cell_type": "code",
   "execution_count": null,
   "id": "1369466d",
   "metadata": {},
   "outputs": [],
   "source": [
    "cur = conn.cursor()"
   ]
  },
  {
   "cell_type": "code",
   "execution_count": null,
   "id": "6379d2dd",
   "metadata": {},
   "outputs": [],
   "source": [
    "cur.execute('''DROP TABLE IF EXISTS Counts''')\n"
   ]
  },
  {
   "cell_type": "code",
   "execution_count": null,
   "id": "7c984112",
   "metadata": {},
   "outputs": [],
   "source": [
    "cur.execute(\n",
    "    '''CREATE TABLE Counts (\n",
    "    EML TEXT,\n",
    "    count INTEGER)''')"
   ]
  },
  {
   "cell_type": "code",
   "execution_count": null,
   "id": "4d173711",
   "metadata": {},
   "outputs": [],
   "source": [
    "\n",
    "fname = input('Enter file name: ')\n",
    "if (len(fname) < 1): fname = 'mbox-short.txt'\n",
    "fh = open(fname)\n",
    "for line in fh:\n",
    "    if not line.startswith('From: '): continue\n",
    "    pieces = line.split()\n",
    "    \n",
    "    email = pieces[1]\n",
    "    print(email)\n",
    "    print('\\n')\n",
    "    cur.execute('SELECT count FROM Counts WHERE EML = ? ', (email,))\n",
    "    row = cur.fetchone()\n",
    "    print(row)\n",
    "    if row is None:\n",
    "        cur.execute('''INSERT INTO Counts (EML, count)\n",
    "                VALUES (?, 1)''', (email,))\n",
    "    else:\n",
    "        cur.execute('UPDATE Counts SET count = count + 1 WHERE EML = ?',\n",
    "                    (email,))\n",
    "    conn.commit()\n",
    "\n",
    "# https://www.sqlite.org/lang_select.html\n",
    "sqlstr = 'SELECT EML, count FROM Counts ORDER BY count DESC LIMIT 10'\n",
    "\n",
    "for row in cur.execute(sqlstr):\n",
    "    print(str(row[0]), row[1])\n",
    "\n",
    "cur.close()"
   ]
  },
  {
   "cell_type": "code",
   "execution_count": null,
   "id": "a5b74b6a",
   "metadata": {},
   "outputs": [],
   "source": []
  }
 ],
 "metadata": {
  "kernelspec": {
   "display_name": "Python 3 (ipykernel)",
   "language": "python",
   "name": "python3"
  },
  "language_info": {
   "codemirror_mode": {
    "name": "ipython",
    "version": 3
   },
   "file_extension": ".py",
   "mimetype": "text/x-python",
   "name": "python",
   "nbconvert_exporter": "python",
   "pygments_lexer": "ipython3",
   "version": "3.9.13"
  }
 },
 "nbformat": 4,
 "nbformat_minor": 5
}
